{
 "cells": [
  {
   "cell_type": "code",
   "execution_count": 83,
   "metadata": {},
   "outputs": [
    {
     "name": "stdout",
     "output_type": "stream",
     "text": [
      "Populating the interactive namespace from numpy and matplotlib\n"
     ]
    }
   ],
   "source": [
    "import pandas as pd\n",
    "import seaborn as sns\n",
    "import matplotlib.pyplot as plt\n",
    "import math\n",
    "import numpy as np\n",
    "from astropy.io import ascii\n",
    "%pylab inline\n",
    "import matplotlib\n",
    "import matplotlib.colors as colors\n",
    "import sklearn\n",
    "from sklearn.mixture import GaussianMixture"
   ]
  },
  {
   "cell_type": "code",
   "execution_count": 84,
   "metadata": {},
   "outputs": [],
   "source": [
    "#sns.reset_defaults()\n",
    "sns.set_context(\"notebook\", font_scale=1.0, rc={\"lines.linewidth\": 2.5})\n",
    "sns.set_palette(sns.color_palette([\"#9b59b6\", \n",
    "                                   \"#e74c3c\", \"#3498db\", \n",
    "                                   \"#34495e\", \"#2ecc71\"]))\n",
    "matplotlib.rcParams['mathtext.fontset'] = 'stix'\n",
    "matplotlib.rcParams['font.family'] = 'STIXGeneral'"
   ]
  },
  {
   "cell_type": "code",
   "execution_count": 85,
   "metadata": {},
   "outputs": [],
   "source": [
    "# Pandas reads from *lots* of different data sources\n",
    "#data = pd.read_csv('../data/galaxy_all.csv', sep= ',') #MJ path\n",
    "data = pd.read_csv('galaxy_all.csv', sep= ',') #TUGBA path"
   ]
  },
  {
   "cell_type": "code",
   "execution_count": 86,
   "metadata": {},
   "outputs": [
    {
     "data": {
      "text/html": [
       "<div>\n",
       "<style scoped>\n",
       "    .dataframe tbody tr th:only-of-type {\n",
       "        vertical-align: middle;\n",
       "    }\n",
       "\n",
       "    .dataframe tbody tr th {\n",
       "        vertical-align: top;\n",
       "    }\n",
       "\n",
       "    .dataframe thead th {\n",
       "        text-align: right;\n",
       "    }\n",
       "</style>\n",
       "<table border=\"1\" class=\"dataframe\">\n",
       "  <thead>\n",
       "    <tr style=\"text-align: right;\">\n",
       "      <th></th>\n",
       "      <th>GalaxyID</th>\n",
       "      <th>GroupID</th>\n",
       "      <th>SnapNum</th>\n",
       "      <th>Redshift</th>\n",
       "      <th>CentreOfMass_x</th>\n",
       "      <th>CentreOfMass_y</th>\n",
       "      <th>CentreOfMass_z</th>\n",
       "      <th>GroupNumber</th>\n",
       "      <th>SubGroupNumber</th>\n",
       "      <th>MassType_Star</th>\n",
       "      <th>...</th>\n",
       "      <th>StellarVelDisp</th>\n",
       "      <th>Vmax</th>\n",
       "      <th>sm</th>\n",
       "      <th>sfr</th>\n",
       "      <th>vel_disp</th>\n",
       "      <th>size</th>\n",
       "      <th>u_nodust</th>\n",
       "      <th>g_nodust</th>\n",
       "      <th>r_nodust</th>\n",
       "      <th>i_nodust</th>\n",
       "    </tr>\n",
       "  </thead>\n",
       "  <tbody>\n",
       "  </tbody>\n",
       "</table>\n",
       "<p>0 rows × 21 columns</p>\n",
       "</div>"
      ],
      "text/plain": [
       "Empty DataFrame\n",
       "Columns: [GalaxyID, GroupID, SnapNum, Redshift, CentreOfMass_x, CentreOfMass_y, CentreOfMass_z, GroupNumber, SubGroupNumber, MassType_Star, StarFormationRate, StellarVelDisp, Vmax, sm, sfr, vel_disp, size, u_nodust, g_nodust, r_nodust, i_nodust]\n",
       "Index: []\n",
       "\n",
       "[0 rows x 21 columns]"
      ]
     },
     "execution_count": 86,
     "metadata": {},
     "output_type": "execute_result"
    }
   ],
   "source": [
    "data = data[(data['sm']<10**11.4)&(data['sm']>10**9)&(data['sfr']>0)]\n",
    "data[:0]"
   ]
  },
  {
   "cell_type": "code",
   "execution_count": 87,
   "metadata": {},
   "outputs": [],
   "source": [
    "data = data.values"
   ]
  },
  {
   "cell_type": "code",
   "execution_count": 88,
   "metadata": {},
   "outputs": [],
   "source": [
    "u_r = data[:,-3] - data[:,-2]\n",
    "r = data[:,-2]\n",
    "ssfr = np.log10(data[:,-7]/data[:,-8]) \n",
    "ms = np.log10(data[:,-8])\n",
    "data[:,-8] = ms.copy()\n",
    "galaxy_id = data[:,0]"
   ]
  },
  {
   "cell_type": "code",
   "execution_count": 89,
   "metadata": {},
   "outputs": [],
   "source": [
    "red_id , blue_id = [] , [] \n",
    "K = 40\n",
    "bins = np.linspace(9, 11.4, K)"
   ]
  },
  {
   "cell_type": "code",
   "execution_count": 93,
   "metadata": {},
   "outputs": [
    {
     "ename": "SyntaxError",
     "evalue": "invalid syntax (<ipython-input-93-fd8bb3dd0622>, line 10)",
     "output_type": "error",
     "traceback": [
      "\u001b[0;36m  File \u001b[0;32m\"<ipython-input-93-fd8bb3dd0622>\"\u001b[0;36m, line \u001b[0;32m10\u001b[0m\n\u001b[0;31m    means_ = gmm.means_\u001b[0m\n\u001b[0m         ^\u001b[0m\n\u001b[0;31mSyntaxError\u001b[0m\u001b[0;31m:\u001b[0m invalid syntax\n"
     ]
    }
   ],
   "source": [
    "for k in range(len(bins)-1):\n",
    "    \n",
    "    logm_min, logm_max  = bins[k], bins[k+1]\n",
    "    mask = (ms>logm_min)&(ms<logm_max)\n",
    "    urm = u_r[mask]\n",
    "    rm = r[mask]\n",
    "    gid = galaxy_id[mask]\n",
    "    \n",
    "    gmm = GaussianMixture(n_components = 2, n_iter=(100).fit(urm.reshape(len(urm), 1))\n",
    "    means_ = gmm.means_\n",
    "    vars_ = gmm.covars_\n",
    "    \n",
    "    mu0, mu1 = means_[0][0], means_[1][0]\n",
    "    std0, std1 = vars_[0][0]**.5, vars_[1][0]**.5\n",
    "    \n",
    "    if mu0>mu1:\n",
    "        mured, mublue = mu0, mu1\n",
    "        stdred , stdblue = std0, std1\n",
    "    else:\n",
    "        mured, mublue = mu1, mu0\n",
    "        stdred , stdblue = std1, std0\n",
    "        \n",
    "    redmask = urm > mured - 0.5 * stdred\n",
    "    bluemask = urm < mublue + 0.5 * stdblue\n",
    "    red_id.append(gid[redmask])\n",
    "    blue_id.append(gid[bluemask])"
   ]
  },
  {
   "cell_type": "code",
   "execution_count": null,
   "metadata": {},
   "outputs": [],
   "source": []
  }
 ],
 "metadata": {
  "kernelspec": {
   "display_name": "Python 2",
   "language": "python",
   "name": "python2"
  },
  "language_info": {
   "codemirror_mode": {
    "name": "ipython",
    "version": 3
   },
   "file_extension": ".py",
   "mimetype": "text/x-python",
   "name": "python",
   "nbconvert_exporter": "python",
   "pygments_lexer": "ipython3",
   "version": "3.5.3"
  }
 },
 "nbformat": 4,
 "nbformat_minor": 2
}
